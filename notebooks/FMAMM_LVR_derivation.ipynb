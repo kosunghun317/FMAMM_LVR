{
 "cells": [
  {
   "cell_type": "code",
   "execution_count": 1,
   "metadata": {},
   "outputs": [],
   "source": [
    "import sympy as sp\n",
    "\n",
    "sp.init_printing(use_unicode=True)"
   ]
  },
  {
   "cell_type": "code",
   "execution_count": 2,
   "metadata": {},
   "outputs": [],
   "source": [
    "# The number of arbitrageurs is set as exogenous variable N\n",
    "y_eq, N, X, Y, P, gamma = sp.symbols(r\"y_eq N X Y P \\gamma\")"
   ]
  },
  {
   "cell_type": "markdown",
   "metadata": {},
   "source": [
    "We start with the case such that the number of arbitrageurs against the pool is exogenously set by $ N $. Let $ P $ be the price of external markets, such as CEXs, $ \\gamma $ be the fee rate, $ X $ and $ Y $ be the reserves of pool. The spot price of pool is then $ \\frac{Y}{X} $. Since we will take $ \\gamma $ of both input and output token, effective fee rate will be around double of it. Letting $ (x_1, y_1), (x_2, y_2), \\cdots , (x_N, y_N) $ be pair of each player's input amounts, the clearing price $ P_c $ will be following: \n",
    "$$\n",
    "\\begin{align} \n",
    "P_c = \\frac{Y + 2\\sum^N_{i=1} y_i }{X + 2\\sum^N_{i=1} x_i} \n",
    "\\end{align}\n",
    "$$"
   ]
  },
  {
   "cell_type": "markdown",
   "metadata": {},
   "source": [
    "Each player $ i $'s revenue $ R_i $ will be:\n",
    "$$\n",
    "R_i = -(1 + \\gamma)(P x_i + y_i) + (1 - \\gamma)(\\frac{P}{P_c}y_i + P_c x_i)\n",
    "$$"
   ]
  },
  {
   "cell_type": "markdown",
   "metadata": {},
   "source": [
    "It is straight forward to see that the best response of $ i $ should be either $ (x_i, 0) $ or $ (0,y_i) $. WLOG let's assume $ \\frac{1 - \\gamma}{1 + \\gamma}P > \\frac{Y}{X} $ and each player's best response can be identified by $ y_i $."
   ]
  },
  {
   "cell_type": "markdown",
   "metadata": {},
   "source": [
    "From the first order condition, while $ P_{-i} $ is defined as clearing price without including bid from player $ i $, we have following equation:\n",
    "$$\n",
    "P_c = \\sqrt{\\frac{1 - \\gamma}{1 + \\gamma}P P_{-i}}\n",
    "$$"
   ]
  },
  {
   "cell_type": "markdown",
   "metadata": {},
   "source": [
    "Note that this holds for every $ i,j \\in [N] $ thus\n",
    "$$\n",
    "P_c = \\sqrt{\\frac{1 - \\gamma}{1 + \\gamma}P P_{-i}} = \\sqrt{\\frac{1 - \\gamma}{1 + \\gamma}P P_{-j}},\n",
    "$$\n",
    "and the pure strategy Nash equilibrium is unique and symmetric."
   ]
  },
  {
   "cell_type": "markdown",
   "metadata": {},
   "source": [
    "Let $ y_\\text{eq} $ be the equilibrium bid of each player. Then $ y_\\text{eq} $ should satisfy:\n",
    "$$\n",
    "\\frac{Y + 2Ny_\\text{eq}}{X} = \\sqrt{\\frac{(Y + 2(N-1)y_\\text{eq})}{X} \\frac{(1-\\gamma)}{(1+\\gamma)}P}."
   ]
  },
  {
   "cell_type": "code",
   "execution_count": 3,
   "metadata": {},
   "outputs": [],
   "source": [
    "equation = (Y + 2 * N * y_eq) / X - sp.sqrt(\n",
    "    (Y + 2 * (N - 1) * y_eq) / X * P * (1 - gamma) / (1 + gamma)\n",
    ")"
   ]
  },
  {
   "cell_type": "code",
   "execution_count": 4,
   "metadata": {},
   "outputs": [],
   "source": [
    "solution = sp.solve(equation, y_eq)[\n",
    "    1\n",
    "]  # We take the second solution, which is the positive one that makes sense"
   ]
  },
  {
   "cell_type": "markdown",
   "metadata": {},
   "source": [
    "$ y_\\text{eq} $ will be:"
   ]
  },
  {
   "cell_type": "code",
   "execution_count": 5,
   "metadata": {},
   "outputs": [
    {
     "data": {
      "image/png": "[encoded data removed]",
      "text/latex": [
       "$\\displaystyle \\frac{- N P X \\gamma + N P X - 2 N Y \\gamma - 2 N Y + P X \\gamma - P X + \\sqrt{- P X \\left(\\gamma - 1\\right) \\left(- N^{2} P X \\gamma + N^{2} P X + 2 N P X \\gamma - 2 N P X + 4 N Y \\gamma + 4 N Y - P X \\gamma + P X\\right)}}{4 N^{2} \\left(\\gamma + 1\\right)}$"
      ],
      "text/plain": [
       "                                                                     _________ ↪\n",
       "                                                                    ╱          ↪\n",
       "-N⋅P⋅X⋅\\gamma + N⋅P⋅X - 2⋅N⋅Y⋅\\gamma - 2⋅N⋅Y + P⋅X⋅\\gamma - P⋅X + ╲╱  -P⋅X⋅(\\g ↪\n",
       "────────────────────────────────────────────────────────────────────────────── ↪\n",
       "                                                                               ↪\n",
       "                                                                               ↪\n",
       "\n",
       "↪ ____________________________________________________________________________ ↪\n",
       "↪           ⎛   2               2                                              ↪\n",
       "↪ amma - 1)⋅⎝- N ⋅P⋅X⋅\\gamma + N ⋅P⋅X + 2⋅N⋅P⋅X⋅\\gamma - 2⋅N⋅P⋅X + 4⋅N⋅Y⋅\\gamm ↪\n",
       "↪ ──────────────────────────────────────────────────────────────────────────── ↪\n",
       "↪         2                                                                    ↪\n",
       "↪      4⋅N ⋅(\\gamma + 1)                                                       ↪\n",
       "\n",
       "↪ ______________________________\n",
       "↪                             ⎞ \n",
       "↪ a + 4⋅N⋅Y - P⋅X⋅\\gamma + P⋅X⎠ \n",
       "↪ ──────────────────────────────\n",
       "↪                               \n",
       "↪                               "
      ]
     },
     "execution_count": 5,
     "metadata": {},
     "output_type": "execute_result"
    }
   ],
   "source": [
    "sp.simplify(solution)"
   ]
  },
  {
   "cell_type": "markdown",
   "metadata": {},
   "source": [
    "Arbitrageur profit will be:"
   ]
  },
  {
   "cell_type": "code",
   "execution_count": 6,
   "metadata": {},
   "outputs": [
    {
     "data": {
      "image/png": "[encoded data removed]",
      "text/latex": [
       "$\\displaystyle \\frac{\\left(N P X \\gamma - N P X + 2 N Y \\gamma + 2 N Y - P X \\gamma + P X - \\sqrt{- P X \\left(\\gamma - 1\\right) \\left(- N^{2} P X \\gamma + N^{2} P X + 2 N P X \\gamma - 2 N P X + 4 N Y \\gamma + 4 N Y - P X \\gamma + P X\\right)}\\right) \\left(- N P X \\gamma + 2 N P X \\left(\\gamma - 1\\right) + N P X - 2 N Y \\gamma + 2 N Y \\left(\\gamma + 1\\right) - 2 N Y + P X \\gamma - P X + \\sqrt{- P X \\left(\\gamma - 1\\right) \\left(- N^{2} P X \\gamma + N^{2} P X + 2 N P X \\gamma - 2 N P X + 4 N Y \\gamma + 4 N Y - P X \\gamma + P X\\right)}\\right)}{4 N^{2} \\left(- N P X \\gamma + N P X - 2 N Y \\gamma + 2 N Y \\left(\\gamma + 1\\right) - 2 N Y + P X \\gamma - P X + \\sqrt{- P X \\left(\\gamma - 1\\right) \\left(- N^{2} P X \\gamma + N^{2} P X + 2 N P X \\gamma - 2 N P X + 4 N Y \\gamma + 4 N Y - P X \\gamma + P X\\right)}\\right)}$"
      ],
      "text/plain": [
       "⎛                                                                    _________ ↪\n",
       "⎜                                                                   ╱          ↪\n",
       "⎝N⋅P⋅X⋅\\gamma - N⋅P⋅X + 2⋅N⋅Y⋅\\gamma + 2⋅N⋅Y - P⋅X⋅\\gamma + P⋅X - ╲╱  -P⋅X⋅(\\g ↪\n",
       "────────────────────────────────────────────────────────────────────────────── ↪\n",
       "                                                                               ↪\n",
       "                                                                               ↪\n",
       "                                                                               ↪\n",
       "\n",
       "↪ ____________________________________________________________________________ ↪\n",
       "↪           ⎛   2               2                                              ↪\n",
       "↪ amma - 1)⋅⎝- N ⋅P⋅X⋅\\gamma + N ⋅P⋅X + 2⋅N⋅P⋅X⋅\\gamma - 2⋅N⋅P⋅X + 4⋅N⋅Y⋅\\gamm ↪\n",
       "↪ ──────────────────────────────────────────────────────────────────────────── ↪\n",
       "↪                              ⎛                                               ↪\n",
       "↪                            2 ⎜                                               ↪\n",
       "↪                         4⋅N ⋅⎝-N⋅P⋅X⋅\\gamma + N⋅P⋅X - 2⋅N⋅Y⋅\\gamma + 2⋅N⋅Y⋅( ↪\n",
       "\n",
       "↪ ______________________________⎞ ⎛                                            ↪\n",
       "↪                             ⎞ ⎟ ⎜                                            ↪\n",
       "↪ a + 4⋅N⋅Y - P⋅X⋅\\gamma + P⋅X⎠ ⎠⋅⎝-N⋅P⋅X⋅\\gamma + 2⋅N⋅P⋅X⋅(\\gamma - 1) + N⋅P⋅ ↪\n",
       "↪ ──────────────────────────────────────────────────────────────────────────── ↪\n",
       "↪                                             ________________________________ ↪\n",
       "↪                                            ╱                   ⎛   2         ↪\n",
       "↪ \\gamma + 1) - 2⋅N⋅Y + P⋅X⋅\\gamma - P⋅X + ╲╱  -P⋅X⋅(\\gamma - 1)⋅⎝- N ⋅P⋅X⋅\\ga ↪\n",
       "\n",
       "↪                                                                       ______ ↪\n",
       "↪                                                                      ╱       ↪\n",
       "↪ X - 2⋅N⋅Y⋅\\gamma + 2⋅N⋅Y⋅(\\gamma + 1) - 2⋅N⋅Y + P⋅X⋅\\gamma - P⋅X + ╲╱  -P⋅X⋅ ↪\n",
       "↪ ──────────────────────────────────────────────────────────────────────────── ↪\n",
       "↪ ____________________________________________________________________________ ↪\n",
       "↪        2                                                                     ↪\n",
       "↪ mma + N ⋅P⋅X + 2⋅N⋅P⋅X⋅\\gamma - 2⋅N⋅P⋅X + 4⋅N⋅Y⋅\\gamma + 4⋅N⋅Y - P⋅X⋅\\gamma  ↪\n",
       "\n",
       "↪ ____________________________________________________________________________ ↪\n",
       "↪              ⎛   2               2                                           ↪\n",
       "↪ (\\gamma - 1)⋅⎝- N ⋅P⋅X⋅\\gamma + N ⋅P⋅X + 2⋅N⋅P⋅X⋅\\gamma - 2⋅N⋅P⋅X + 4⋅N⋅Y⋅\\g ↪\n",
       "↪ ──────────────────────────────────────────────────────────────────────────── ↪\n",
       "↪ _______⎞                                                                     ↪\n",
       "↪      ⎞ ⎟                                                                     ↪\n",
       "↪ + P⋅X⎠ ⎠                                                                     ↪\n",
       "\n",
       "↪ _________________________________⎞\n",
       "↪                                ⎞ ⎟\n",
       "↪ amma + 4⋅N⋅Y - P⋅X⋅\\gamma + P⋅X⎠ ⎠\n",
       "↪ ──────────────────────────────────\n",
       "↪                                   \n",
       "↪                                   \n",
       "↪                                   "
      ]
     },
     "execution_count": 6,
     "metadata": {},
     "output_type": "execute_result"
    }
   ],
   "source": [
    "sp.simplify(\n",
    "    -(1 + gamma) * solution + (1 - gamma) * P * solution / ((Y + 2 * N * solution) / X)\n",
    ")"
   ]
  },
  {
   "cell_type": "markdown",
   "metadata": {},
   "source": [
    "Total loss of AMM against arbitrageurs is:\n",
    "$$\n",
    "\\begin{align}\n",
    "\\text{LVR} &= N \\cdot (\\text{Arbitrageurs' profit}) \\\\\n",
    "&= N y_\\text{eq} (1 + \\gamma) \\Big[\\frac{1 - \\gamma}{1 + \\gamma} \\frac{P}{P_c} - 1 \\Big] \\\\ \n",
    "&= (1 - \\gamma) \\cdot P X \\cdot \\frac{1}{(1 + \\frac{Y}{2N y_\\text{eq}})^2} \\cdot \\frac{1}{2N} \\\\\n",
    "\\end{align} \n",
    "$$"
   ]
  },
  {
   "cell_type": "code",
   "execution_count": 7,
   "metadata": {},
   "outputs": [
    {
     "data": {
      "image/png": "[encoded data removed]",
      "text/latex": [
       "$\\displaystyle - \\frac{P X \\left(\\gamma - 1\\right)}{2 N \\left(\\frac{2 N Y \\left(\\gamma + 1\\right)}{N P X \\gamma - N P X + 2 N Y \\gamma + 2 N Y - P X \\gamma + P X - \\sqrt{- P X \\left(\\gamma - 1\\right) \\left(- N^{2} P X \\gamma + N^{2} P X + 2 N P X \\gamma - 2 N P X + 4 N Y \\gamma + 4 N Y - P X \\gamma + P X\\right)}} - 1\\right)^{2}}$"
      ],
      "text/plain": [
       "                                                                               ↪\n",
       "────────────────────────────────────────────────────────────────────────────── ↪\n",
       "                                                                               ↪\n",
       "    ⎛                                                                          ↪\n",
       "2⋅N⋅⎜───────────────────────────────────────────────────────────────────────── ↪\n",
       "    ⎜                                                                    _____ ↪\n",
       "    ⎜                                                                   ╱      ↪\n",
       "    ⎝N⋅P⋅X⋅\\gamma - N⋅P⋅X + 2⋅N⋅Y⋅\\gamma + 2⋅N⋅Y - P⋅X⋅\\gamma + P⋅X - ╲╱  -P⋅X ↪\n",
       "\n",
       "↪           -P⋅X⋅(\\gamma - 1)                                                  ↪\n",
       "↪ ──────────────────────────────────────────────────────────────────────────── ↪\n",
       "↪                                                                              ↪\n",
       "↪          2⋅N⋅Y⋅(\\gamma + 1)                                                  ↪\n",
       "↪ ──────────────────────────────────────────────────────────────────────────── ↪\n",
       "↪ ____________________________________________________________________________ ↪\n",
       "↪               ⎛   2               2                                          ↪\n",
       "↪ ⋅(\\gamma - 1)⋅⎝- N ⋅P⋅X⋅\\gamma + N ⋅P⋅X + 2⋅N⋅P⋅X⋅\\gamma - 2⋅N⋅P⋅X + 4⋅N⋅Y⋅\\ ↪\n",
       "\n",
       "↪                                         \n",
       "↪ ────────────────────────────────────────\n",
       "↪                                        2\n",
       "↪                                       ⎞ \n",
       "↪ ────────────────────────────────── - 1⎟ \n",
       "↪ __________________________________    ⎟ \n",
       "↪                                 ⎞     ⎟ \n",
       "↪ gamma + 4⋅N⋅Y - P⋅X⋅\\gamma + P⋅X⎠     ⎠ "
      ]
     },
     "execution_count": 7,
     "metadata": {},
     "output_type": "execute_result"
    }
   ],
   "source": [
    "sp.simplify((1 - gamma) * P * X / (1 + Y / (2 * N * solution)) ** 2 / (2 * N))"
   ]
  }
 ],
 "metadata": {
  "kernelspec": {
   "display_name": ".venv",
   "language": "python",
   "name": "python3"
  },
  "language_info": {
   "codemirror_mode": {
    "name": "ipython",
    "version": 3
   },
   "file_extension": ".py",
   "mimetype": "text/x-python",
   "name": "python",
   "nbconvert_exporter": "python",
   "pygments_lexer": "ipython3",
   "version": "3.12.4"
  }
 },
 "nbformat": 4,
 "nbformat_minor": 2
}
