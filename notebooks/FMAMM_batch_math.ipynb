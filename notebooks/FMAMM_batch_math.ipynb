{
 "cells": [
  {
   "cell_type": "code",
   "execution_count": 1,
   "metadata": {},
   "outputs": [],
   "source": [
    "import sympy as sp\n",
    "from sympy import init_printing\n",
    "from sympy import symbols\n",
    "from sympy.matrices import Matrix\n",
    "\n",
    "init_printing(use_unicode=True)"
   ]
  },
  {
   "cell_type": "code",
   "execution_count": 2,
   "metadata": {},
   "outputs": [],
   "source": [
    "x_0, y_0, x_in, y_in, x_mint, y_mint = symbols(\"x_0, y_0, x_in, y_in, x_mint, y_mint\")"
   ]
  },
  {
   "cell_type": "markdown",
   "metadata": {},
   "source": [
    "The fundamental equation we will start with is:\n",
    "\n",
    "$$\n",
    "\\begin{align}\n",
    "\\begin{bmatrix}\n",
    "x_{\\text{mint}} \\\\\n",
    "y_{\\text{mint}}\n",
    "\\end{bmatrix}\n",
    "&=\n",
    "x_{\\text{mint}} \\begin{bmatrix}\n",
    "1 \\\\\n",
    "p\n",
    "\\end{bmatrix}\n",
    "+\n",
    "\\begin{bmatrix}\n",
    "0 \\\\\n",
    "2\\alpha\n",
    "\\end{bmatrix}\n",
    "\\\\\n",
    "\\begin{bmatrix}\n",
    "x_{\\text{in}} \\\\\n",
    "y_{\\text{in}}\n",
    "\\end{bmatrix}\n",
    "&=\n",
    "x_{\\text{in}} \\begin{bmatrix}\n",
    "1 \\\\\n",
    "p\n",
    "\\end{bmatrix}\n",
    "+\n",
    "\\begin{bmatrix}\n",
    "0 \\\\\n",
    "\\beta\n",
    "\\end{bmatrix}\n",
    "\\\\\n",
    "\\begin{bmatrix}\n",
    "x_1 \\\\\n",
    "y_1\n",
    "\\end{bmatrix}\n",
    "&=\n",
    "\\begin{bmatrix}\n",
    "x_0 \\cdot \\frac{y_0 + \\alpha + \\beta}{y_0 + 2(\\alpha + \\beta)} \\\\\n",
    "y_0 + \\alpha + \\beta\n",
    "\\end{bmatrix}\n",
    "\\end{align}\n",
    "$$"
   ]
  },
  {
   "cell_type": "markdown",
   "metadata": {},
   "source": [
    "The fact that\n",
    "\n",
    "$$\n",
    "\\begin{bmatrix}\n",
    "x_{\\text{mint}} \\\\\n",
    "y_{\\text{mint}} - 2\\alpha\n",
    "\\end{bmatrix}, \n",
    "\\begin{bmatrix}\n",
    "x_{\\text{in}} \\\\\n",
    "y_{\\text{in}} - \\beta\n",
    "\\end{bmatrix}, \n",
    "\\begin{bmatrix}\n",
    "x_1 \\\\\n",
    "y_1\n",
    "\\end{bmatrix}\n",
    "$$\n",
    "\n",
    "are all parallel gives us following matrix equation:\n",
    "\n",
    "$$\n",
    "\\begin{equation}\n",
    "\\begin{bmatrix}\n",
    "2x_0 + 2x_{\\text{mint}} & 2x_{\\text{mint}} \\\\\n",
    "2x_{\\text{in}} & 2x_{\\text{in}} + x_0\n",
    "\\end{bmatrix}\n",
    "\\begin{bmatrix}\n",
    "\\alpha \\\\\n",
    "\\beta\n",
    "\\end{bmatrix}\n",
    "=\n",
    "\\begin{bmatrix}\n",
    "x_0 y_{\\text{mint}} - x_{\\text{mint}} y_0 \\\\\n",
    "x_0 y_{\\text{in}} - x_{\\text{in}} y_0\n",
    "\\end{bmatrix}\n",
    "\\end{equation}\n",
    "$$\n"
   ]
  },
  {
   "cell_type": "code",
   "execution_count": 3,
   "metadata": {},
   "outputs": [],
   "source": [
    "A = Matrix([[2 * x_0 + 2 * x_mint, 2 * x_mint], [2 * x_in, x_0 + 2 * x_in]])\n",
    "v = Matrix([x_0 * y_mint - x_mint * y_0, x_0 * y_in - x_in * y_0])"
   ]
  },
  {
   "cell_type": "markdown",
   "metadata": {},
   "source": [
    "Since determinant is always positive above equation is not singular."
   ]
  },
  {
   "cell_type": "code",
   "execution_count": 4,
   "metadata": {},
   "outputs": [
    {
     "data": {
      "image/png": "[encoded data removed]",
      "text/latex": [
       "$\\displaystyle 2 x_{0}^{2} + 4 x_{0} x_{in} + 2 x_{0} x_{mint} > 0$"
      ],
      "text/plain": [
       "    2                            \n",
       "2⋅x₀  + 4⋅x₀⋅xᵢₙ + 2⋅x₀⋅xₘᵢₙₜ > 0"
      ]
     },
     "execution_count": 4,
     "metadata": {},
     "output_type": "execute_result"
    }
   ],
   "source": [
    "A.det() > 0"
   ]
  },
  {
   "cell_type": "markdown",
   "metadata": {},
   "source": [
    "$ \\alpha, \\beta $ are:"
   ]
  },
  {
   "cell_type": "code",
   "execution_count": 5,
   "metadata": {},
   "outputs": [
    {
     "data": {
      "image/png": "[encoded data removed]",
      "text/latex": [
       "$\\displaystyle \\left( \\frac{\\frac{x_{0} y_{mint}}{2} + x_{in} y_{mint} - \\frac{x_{mint} y_{0}}{2} - x_{mint} y_{in}}{x_{0} + 2 x_{in} + x_{mint}}, \\  \\frac{x_{0} y_{in} - x_{in} y_{0} - x_{in} y_{mint} + x_{mint} y_{in}}{x_{0} + 2 x_{in} + x_{mint}}\\right)$"
      ],
      "text/plain": [
       "⎛x₀⋅yₘᵢₙₜ               xₘᵢₙₜ⋅y₀                                               ↪\n",
       "⎜──────── + xᵢₙ⋅yₘᵢₙₜ - ──────── - xₘᵢₙₜ⋅yᵢₙ                                   ↪\n",
       "⎜   2                      2                  x₀⋅yᵢₙ - xᵢₙ⋅y₀ - xᵢₙ⋅yₘᵢₙₜ + xₘ ↪\n",
       "⎜───────────────────────────────────────────, ──────────────────────────────── ↪\n",
       "⎝            x₀ + 2⋅xᵢₙ + xₘᵢₙₜ                         x₀ + 2⋅xᵢₙ + xₘᵢₙₜ     ↪\n",
       "\n",
       "↪        ⎞\n",
       "↪        ⎟\n",
       "↪ ᵢₙₜ⋅yᵢₙ⎟\n",
       "↪ ───────⎟\n",
       "↪        ⎠"
      ]
     },
     "execution_count": 5,
     "metadata": {},
     "output_type": "execute_result"
    }
   ],
   "source": [
    "[a, b] = A.solve(v)\n",
    "\n",
    "sp.simplify(a), sp.simplify(b)"
   ]
  },
  {
   "cell_type": "markdown",
   "metadata": {},
   "source": [
    "Thus $ x_1, y_1 $ are:"
   ]
  },
  {
   "cell_type": "code",
   "execution_count": 6,
   "metadata": {},
   "outputs": [
    {
     "data": {
      "image/png": "[encoded data removed]",
      "text/latex": [
       "$\\displaystyle \\left( \\frac{x_{0} y_{0} + x_{0} y_{in} + \\frac{x_{0} y_{mint}}{2} + x_{in} y_{0} + \\frac{x_{mint} y_{0}}{2}}{y_{0} + 2 y_{in} + y_{mint}}, \\  \\frac{x_{0} y_{0} + x_{0} y_{in} + \\frac{x_{0} y_{mint}}{2} + x_{in} y_{0} + \\frac{x_{mint} y_{0}}{2}}{x_{0} + 2 x_{in} + x_{mint}}\\right)$"
      ],
      "text/plain": [
       "⎛                 x₀⋅yₘᵢₙₜ            xₘᵢₙₜ⋅y₀                   x₀⋅yₘᵢₙₜ      ↪\n",
       "⎜x₀⋅y₀ + x₀⋅yᵢₙ + ──────── + xᵢₙ⋅y₀ + ────────  x₀⋅y₀ + x₀⋅yᵢₙ + ──────── + xᵢ ↪\n",
       "⎜                    2                   2                          2          ↪\n",
       "⎜─────────────────────────────────────────────, ────────────────────────────── ↪\n",
       "⎝             y₀ + 2⋅yᵢₙ + yₘᵢₙₜ                             x₀ + 2⋅xᵢₙ + xₘᵢₙ ↪\n",
       "\n",
       "↪        xₘᵢₙₜ⋅y₀⎞\n",
       "↪ ₙ⋅y₀ + ────────⎟\n",
       "↪           2    ⎟\n",
       "↪ ───────────────⎟\n",
       "↪ ₜ              ⎠"
      ]
     },
     "execution_count": 6,
     "metadata": {},
     "output_type": "execute_result"
    }
   ],
   "source": [
    "[x_1, y_1] = Matrix([x_0 * (y_0 + a + b) / (y_0 + 2 * (a + b)), y_0 + a + b])\n",
    "\n",
    "sp.simplify(x_1), sp.simplify(y_1)"
   ]
  },
  {
   "cell_type": "markdown",
   "metadata": {},
   "source": [
    "The clearing price $ p $ is:"
   ]
  },
  {
   "cell_type": "code",
   "execution_count": 7,
   "metadata": {},
   "outputs": [
    {
     "data": {
      "image/png": "[encoded data removed]",
      "text/latex": [
       "$\\displaystyle \\frac{y_{0} + 2 y_{in} + y_{mint}}{x_{0} + 2 x_{in} + x_{mint}}$"
      ],
      "text/plain": [
       "y₀ + 2⋅yᵢₙ + yₘᵢₙₜ\n",
       "──────────────────\n",
       "x₀ + 2⋅xᵢₙ + xₘᵢₙₜ"
      ]
     },
     "execution_count": 7,
     "metadata": {},
     "output_type": "execute_result"
    }
   ],
   "source": [
    "p = sp.simplify(y_1 / x_1)\n",
    "\n",
    "p"
   ]
  },
  {
   "cell_type": "markdown",
   "metadata": {},
   "source": [
    "$x_{\\text{out}}, y_{\\text{out}}$ are:"
   ]
  },
  {
   "cell_type": "code",
   "execution_count": 8,
   "metadata": {},
   "outputs": [
    {
     "data": {
      "image/png": "[encoded data removed]",
      "text/latex": [
       "$\\displaystyle \\left( \\frac{y_{in} \\left(x_{0} + 2 x_{in} + x_{mint}\\right)}{y_{0} + 2 y_{in} + y_{mint}}, \\  \\frac{x_{in} \\left(y_{0} + 2 y_{in} + y_{mint}\\right)}{x_{0} + 2 x_{in} + x_{mint}}\\right)$"
      ],
      "text/plain": [
       "⎛yᵢₙ⋅(x₀ + 2⋅xᵢₙ + xₘᵢₙₜ)  xᵢₙ⋅(y₀ + 2⋅yᵢₙ + yₘᵢₙₜ)⎞\n",
       "⎜────────────────────────, ────────────────────────⎟\n",
       "⎝   y₀ + 2⋅yᵢₙ + yₘᵢₙₜ        x₀ + 2⋅xᵢₙ + xₘᵢₙₜ   ⎠"
      ]
     },
     "execution_count": 8,
     "metadata": {},
     "output_type": "execute_result"
    }
   ],
   "source": [
    "[x_out, y_out] = Matrix([y_in / p, x_in * p])\n",
    "\n",
    "sp.simplify(x_out), sp.simplify(y_out)"
   ]
  },
  {
   "cell_type": "markdown",
   "metadata": {},
   "source": [
    "$x_2, y_2$, which are the reserves after minting LP tokens, are:"
   ]
  },
  {
   "cell_type": "code",
   "execution_count": 9,
   "metadata": {},
   "outputs": [
    {
     "name": "stdout",
     "output_type": "stream",
     "text": [
      "True\n"
     ]
    },
    {
     "data": {
      "image/png": "[encoded data removed]",
      "text/latex": [
       "$\\displaystyle \\left( \\frac{x_{0} y_{0} + x_{0} y_{in} + x_{0} y_{mint} + x_{in} y_{0} + x_{in} y_{mint} + x_{mint} y_{0} + x_{mint} y_{in} + x_{mint} y_{mint}}{y_{0} + 2 y_{in} + y_{mint}}, \\  \\frac{x_{0} y_{0} + x_{0} y_{in} + x_{0} y_{mint} + x_{in} y_{0} + x_{in} y_{mint} + x_{mint} y_{0} + x_{mint} y_{in} + x_{mint} y_{mint}}{x_{0} + 2 x_{in} + x_{mint}}\\right)$"
      ],
      "text/plain": [
       "⎛x₀⋅y₀ + x₀⋅yᵢₙ + x₀⋅yₘᵢₙₜ + xᵢₙ⋅y₀ + xᵢₙ⋅yₘᵢₙₜ + xₘᵢₙₜ⋅y₀ + xₘᵢₙₜ⋅yᵢₙ + xₘᵢₙₜ ↪\n",
       "⎜───────────────────────────────────────────────────────────────────────────── ↪\n",
       "⎝                                y₀ + 2⋅yᵢₙ + yₘᵢₙₜ                            ↪\n",
       "\n",
       "↪ ⋅yₘᵢₙₜ  x₀⋅y₀ + x₀⋅yᵢₙ + x₀⋅yₘᵢₙₜ + xᵢₙ⋅y₀ + xᵢₙ⋅yₘᵢₙₜ + xₘᵢₙₜ⋅y₀ + xₘᵢₙₜ⋅yᵢ ↪\n",
       "↪ ──────, ──────────────────────────────────────────────────────────────────── ↪\n",
       "↪                                         x₀ + 2⋅xᵢₙ + xₘᵢₙₜ                   ↪\n",
       "\n",
       "↪ ₙ + xₘᵢₙₜ⋅yₘᵢₙₜ⎞\n",
       "↪ ───────────────⎟\n",
       "↪                ⎠"
      ]
     },
     "execution_count": 9,
     "metadata": {},
     "output_type": "execute_result"
    }
   ],
   "source": [
    "[x_2, y_2] = Matrix([x_1 + x_mint + a / p, y_1 + p * x_mint + a])\n",
    "\n",
    "print(sp.simplify(x_mint * p + a) == sp.simplify(y_mint - a))\n",
    "\n",
    "sp.simplify(x_2), sp.simplify(y_2)"
   ]
  },
  {
   "cell_type": "markdown",
   "metadata": {},
   "source": [
    "When $T$ is total supply of LP token before the batch settlement, newly minted share $t$ will be:"
   ]
  },
  {
   "cell_type": "code",
   "execution_count": 10,
   "metadata": {},
   "outputs": [
    {
     "data": {
      "image/png": "[encoded data removed]",
      "text/latex": [
       "$\\displaystyle \\frac{T \\left(x_{0} y_{mint} + 2 x_{in} y_{mint} + x_{mint} y_{0} + 2 x_{mint} y_{in} + 2 x_{mint} y_{mint}\\right)}{2 x_{0} y_{0} + 2 x_{0} y_{in} + x_{0} y_{mint} + 2 x_{in} y_{0} + x_{mint} y_{0}}$"
      ],
      "text/plain": [
       "T⋅(x₀⋅yₘᵢₙₜ + 2⋅xᵢₙ⋅yₘᵢₙₜ + xₘᵢₙₜ⋅y₀ + 2⋅xₘᵢₙₜ⋅yᵢₙ + 2⋅xₘᵢₙₜ⋅yₘᵢₙₜ)\n",
       "───────────────────────────────────────────────────────────────────\n",
       "        2⋅x₀⋅y₀ + 2⋅x₀⋅yᵢₙ + x₀⋅yₘᵢₙₜ + 2⋅xᵢₙ⋅y₀ + xₘᵢₙₜ⋅y₀        "
      ]
     },
     "execution_count": 10,
     "metadata": {},
     "output_type": "execute_result"
    }
   ],
   "source": [
    "T = symbols(\"T\")\n",
    "\n",
    "t = T * ((p * x_2 + y_2) / (p * x_1 + y_1) - 1)\n",
    "\n",
    "sp.simplify(t)"
   ]
  },
  {
   "cell_type": "markdown",
   "metadata": {},
   "source": [
    "Lastly, the sanity check:\n",
    "\\begin{align}\n",
    "x_0 + x_{\\text{in}} + x_{\\text{mint}} &= x_2 + x_{\\text{out}} \\\\\n",
    "y_0 + y_{\\text{in}} + y_{\\text{mint}} &= y_2 + y_{\\text{out}}\n",
    "\\end{align}"
   ]
  },
  {
   "cell_type": "code",
   "execution_count": 11,
   "metadata": {},
   "outputs": [
    {
     "data": {
      "image/png": "[encoded data removed]",
      "text/latex": [
       "$\\displaystyle \\left( 0, \\  0\\right)$"
      ],
      "text/plain": [
       "(0, 0)"
      ]
     },
     "execution_count": 11,
     "metadata": {},
     "output_type": "execute_result"
    }
   ],
   "source": [
    "(\n",
    "    sp.simplify(x_0 + x_in + x_mint - x_2 - x_out),\n",
    "    sp.simplify(y_0 + y_in + y_mint - y_2 - y_out),\n",
    ")"
   ]
  }
 ],
 "metadata": {
  "kernelspec": {
   "display_name": ".venv",
   "language": "python",
   "name": "python3"
  },
  "language_info": {
   "codemirror_mode": {
    "name": "ipython",
    "version": 3
   },
   "file_extension": ".py",
   "mimetype": "text/x-python",
   "name": "python",
   "nbconvert_exporter": "python",
   "pygments_lexer": "ipython3",
   "version": "3.12.4"
  }
 },
 "nbformat": 4,
 "nbformat_minor": 2
}
