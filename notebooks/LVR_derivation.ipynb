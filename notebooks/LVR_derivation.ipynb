{
 "cells": [
  {
   "cell_type": "code",
   "execution_count": 1,
   "metadata": {},
   "outputs": [],
   "source": [
    "import sympy as sp\n",
    "\n",
    "sp.init_printing(use_unicode=True)"
   ]
  },
  {
   "cell_type": "code",
   "execution_count": 3,
   "metadata": {},
   "outputs": [],
   "source": [
    "y_eq, N, X, Y, P, gamma = sp.symbols(r\"y_eq N X Y P \\gamma\")"
   ]
  },
  {
   "cell_type": "code",
   "execution_count": 4,
   "metadata": {},
   "outputs": [],
   "source": [
    "equation = (Y + 2 * N * y_eq) / X - sp.sqrt(\n",
    "    (Y + 2 * (N - 1) * y_eq) / X * (1 - gamma) / (1 + gamma) * P\n",
    ")"
   ]
  },
  {
   "cell_type": "code",
   "execution_count": 5,
   "metadata": {},
   "outputs": [],
   "source": [
    "solution = sp.solve(equation, y_eq)"
   ]
  },
  {
   "cell_type": "code",
   "execution_count": 6,
   "metadata": {},
   "outputs": [
    {
     "data": {
      "image/png": "[encoded data removed]",
      "text/latex": [
       "$\\displaystyle \\frac{- N P X \\gamma + N P X - 2 N Y \\gamma - 2 N Y + P X \\gamma - P X + \\sqrt{- P X \\left(\\gamma - 1\\right) \\left(- N^{2} P X \\gamma + N^{2} P X + 2 N P X \\gamma - 2 N P X + 4 N Y \\gamma + 4 N Y - P X \\gamma + P X\\right)}}{4 N^{2} \\left(\\gamma + 1\\right)}$"
      ],
      "text/plain": [
       "                                                                     _________ ↪\n",
       "                                                                    ╱          ↪\n",
       "-N⋅P⋅X⋅\\gamma + N⋅P⋅X - 2⋅N⋅Y⋅\\gamma - 2⋅N⋅Y + P⋅X⋅\\gamma - P⋅X + ╲╱  -P⋅X⋅(\\g ↪\n",
       "────────────────────────────────────────────────────────────────────────────── ↪\n",
       "                                                                               ↪\n",
       "                                                                               ↪\n",
       "\n",
       "↪ ____________________________________________________________________________ ↪\n",
       "↪           ⎛   2               2                                              ↪\n",
       "↪ amma - 1)⋅⎝- N ⋅P⋅X⋅\\gamma + N ⋅P⋅X + 2⋅N⋅P⋅X⋅\\gamma - 2⋅N⋅P⋅X + 4⋅N⋅Y⋅\\gamm ↪\n",
       "↪ ──────────────────────────────────────────────────────────────────────────── ↪\n",
       "↪         2                                                                    ↪\n",
       "↪      4⋅N ⋅(\\gamma + 1)                                                       ↪\n",
       "\n",
       "↪ ______________________________\n",
       "↪                             ⎞ \n",
       "↪ a + 4⋅N⋅Y - P⋅X⋅\\gamma + P⋅X⎠ \n",
       "↪ ──────────────────────────────\n",
       "↪                               \n",
       "↪                               "
      ]
     },
     "execution_count": 6,
     "metadata": {},
     "output_type": "execute_result"
    }
   ],
   "source": [
    "sp.simplify(solution[1])  # This is the positive one"
   ]
  },
  {
   "cell_type": "code",
   "execution_count": 7,
   "metadata": {},
   "outputs": [],
   "source": [
    "P_c = (Y + 2 * N * y_eq) / X  # clearing price\n",
    "ARB = -(1 + gamma) * (y_eq) + (1 - gamma) * (\n",
    "    P * y_eq / P_c\n",
    ")  # arbitrageur's profit after paying fee"
   ]
  },
  {
   "cell_type": "code",
   "execution_count": 8,
   "metadata": {},
   "outputs": [],
   "source": [
    "X_val = 50 * 1_000_000\n",
    "Y_val = 50 * 1_000_000\n",
    "P_val = 1.005  # price at CEX\n",
    "gamma_val = 0.003 / 2  # half of effective fee rate\n",
    "c_val = 10  # tx cost"
   ]
  },
  {
   "cell_type": "code",
   "execution_count": 9,
   "metadata": {},
   "outputs": [
    {
     "name": "stdout",
     "output_type": "stream",
     "text": [
      "Arbitrageur's profit with N = 1: 24.7510728231159\n",
      "Arbitrageur's profit with N = 2: 10.9992617143760\n",
      "Arbitrageur's profit with N = 3: 6.18623061606965\n",
      "Arbitrageur's profit with N = 4: 3.95875480211037\n",
      "Arbitrageur's profit with N = 5: 2.74890460999734\n",
      "Arbitrageur's profit with N = 6: 2.01947143837181\n",
      "Arbitrageur's profit with N = 7: 1.54607749263728\n",
      "Arbitrageur's profit with N = 8: 1.22154059396959\n",
      "Arbitrageur's profit with N = 9: 0.989413421016100\n",
      "Arbitrageur's profit with N = 10: 0.817673145927310\n"
     ]
    }
   ],
   "source": [
    "for i in range(1, 11):\n",
    "    profit = (\n",
    "        ARB.subs(y_eq, solution[1])\n",
    "        .subs({X: X_val, Y: Y_val, P: P_val, gamma: gamma_val, N: i})\n",
    "        .evalf()\n",
    "    )\n",
    "\n",
    "    print(f\"Arbitrageur's profit with N = {i}: {profit}\")"
   ]
  },
  {
   "cell_type": "code",
   "execution_count": 10,
   "metadata": {},
   "outputs": [
    {
     "name": "stdout",
     "output_type": "stream",
     "text": [
      "LVR with N = 1: 24.7510728231159\n",
      "LVR with N = 2: 21.9985234287519\n",
      "LVR with N = 3: 18.5586918481064\n",
      "LVR with N = 4: 15.8350192084415\n",
      "LVR with N = 5: 13.7445230486735\n",
      "LVR with N = 6: 12.1168286330367\n",
      "LVR with N = 7: 10.8225424475268\n",
      "LVR with N = 8: 9.77232475175674\n",
      "LVR with N = 9: 8.90472078872917\n",
      "LVR with N = 10: 8.17673145869866\n"
     ]
    }
   ],
   "source": [
    "for i in range(1, 11):\n",
    "    profit = (\n",
    "        (ARB * N)\n",
    "        .subs(y_eq, solution[1])\n",
    "        .subs({X: X_val, Y: Y_val, P: P_val, gamma: gamma_val, N: i})\n",
    "        .evalf()\n",
    "    )\n",
    "\n",
    "    print(f\"LVR with N = {i}: {profit}\")"
   ]
  },
  {
   "cell_type": "code",
   "execution_count": 11,
   "metadata": {},
   "outputs": [
    {
     "name": "stdout",
     "output_type": "stream",
     "text": [
      "Maximum N: 2\n",
      "Arbitrageur's profit w/o tx cost with N = 2: 10.9992617143760\n",
      "Arbitrageur's profit w/ tx cost with N = 2: 0.999261714375971\n",
      "LVR w/ tx cost with N = 2: 21.9985234287519\n"
     ]
    }
   ],
   "source": [
    "# find the maximum N such that arbitrageur's profit is positive\n",
    "N_max = 0\n",
    "N_max_profit = 0\n",
    "N_max_profit_after_tx_cost = 0\n",
    "\n",
    "for i in range(1, 11):\n",
    "    profit = (\n",
    "        ARB.subs(y_eq, solution[1])\n",
    "        .subs({X: X_val, Y: Y_val, P: P_val, gamma: gamma_val, N: i})\n",
    "        .evalf()\n",
    "    )\n",
    "\n",
    "    profit_after_tx_cost = profit - c_val\n",
    "\n",
    "    if profit_after_tx_cost > 0:\n",
    "        N_max = i\n",
    "        N_max_profit = profit\n",
    "        N_max_profit_after_tx_cost = profit_after_tx_cost\n",
    "    else:\n",
    "        break\n",
    "\n",
    "print(f\"Maximum N: {N_max}\")\n",
    "print(f\"Arbitrageur's profit w/o tx cost with N = {N_max}: {N_max_profit}\")\n",
    "print(f\"Arbitrageur's profit w/ tx cost with N = {N_max}: {N_max_profit_after_tx_cost}\")\n",
    "print(f\"LVR w/ tx cost with N = {N_max}: {N_max_profit * N_max}\")"
   ]
  }
 ],
 "metadata": {
  "kernelspec": {
   "display_name": ".venv",
   "language": "python",
   "name": "python3"
  },
  "language_info": {
   "codemirror_mode": {
    "name": "ipython",
    "version": 3
   },
   "file_extension": ".py",
   "mimetype": "text/x-python",
   "name": "python",
   "nbconvert_exporter": "python",
   "pygments_lexer": "ipython3",
   "version": "3.12.4"
  }
 },
 "nbformat": 4,
 "nbformat_minor": 2
}
